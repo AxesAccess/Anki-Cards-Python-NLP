{
  "nbformat": 4,
  "nbformat_minor": 0,
  "metadata": {
    "colab": {
      "provenance": [],
      "authorship_tag": "ABX9TyPiBTOzOGq2pWoRENknHlTb",
      "include_colab_link": true
    },
    "kernelspec": {
      "name": "python3",
      "display_name": "Python 3"
    },
    "language_info": {
      "name": "python"
    }
  },
  "cells": [
    {
      "cell_type": "markdown",
      "metadata": {
        "id": "view-in-github",
        "colab_type": "text"
      },
      "source": [
        "<a href=\"https://colab.research.google.com/github/AxesAccess/Anki-Cards-Python-NLP/blob/main/Creating_Anki_Flashcards.ipynb\" target=\"_parent\"><img src=\"https://colab.research.google.com/assets/colab-badge.svg\" alt=\"Open In Colab\"/></a>"
      ]
    },
    {
      "cell_type": "markdown",
      "source": [
        "# Creating Anki Flashcards From List of Words"
      ],
      "metadata": {
        "id": "JulLuh8-nWvA"
      }
    },
    {
      "cell_type": "markdown",
      "source": [
        "Posted: [Creating Anki Flashcards From List of Words](https://axesaccess.github.io/Blog/posts/20250503-anki-part-1/)"
      ],
      "metadata": {
        "id": "r6OO_8shnqaB"
      }
    },
    {
      "cell_type": "markdown",
      "source": [
        "## Introduction\n",
        "\n",
        "This notebook demonstrates how to create Anki flashcards from a list of\n",
        "words. The example uses a list of German words related to \"Die Stadt\"\n",
        "(The City) and translates them into English. It also generates audio\n",
        "files for the words using Google Text-to-Speech."
      ],
      "metadata": {
        "id": "JWFB8oygh4_k"
      }
    },
    {
      "cell_type": "markdown",
      "source": [
        "## Install Required Libraries"
      ],
      "metadata": {
        "id": "tjYmmAvZiDeo"
      }
    },
    {
      "cell_type": "code",
      "execution_count": null,
      "metadata": {
        "id": "ZESzJXtag1We"
      },
      "outputs": [],
      "source": [
        "!pip install pandas googletrans gtts genanki"
      ]
    },
    {
      "cell_type": "markdown",
      "source": [
        "Here we create folders and upload necessary files"
      ],
      "metadata": {
        "id": "vFenVwxhniT-"
      }
    },
    {
      "cell_type": "code",
      "source": [
        "import os\n",
        "from urllib.request import urlretrieve\n",
        "\n",
        "try:\n",
        "    os.mkdir(\"data\")\n",
        "    os.mkdir(\"data/audio\")\n",
        "    os.mkdir(\"data/fonts\")\n",
        "except FileExistsError:\n",
        "    pass\n",
        "\n",
        "urlretrieve(\"https://github.com/AxesAccess/Blog/raw/refs/heads/main/posts/20250503-anki-part-1/data/fonts/Ubuntu-R.ttf\", \"data/fonts/Ubuntu-R.ttf\")\n",
        "urlretrieve(\"https://github.com/AxesAccess/Blog/raw/refs/heads/main/posts/20250503-anki-part-1/data/die%20Stadt.txt\", \"data/die Stadt.txt\")\n"
      ],
      "metadata": {
        "colab": {
          "base_uri": "https://localhost:8080/"
        },
        "id": "L4JfDUTSimrN",
        "outputId": "c3c2e9f8-bbb8-4a4b-b838-d621a1a8c4a3"
      },
      "execution_count": 8,
      "outputs": [
        {
          "output_type": "execute_result",
          "data": {
            "text/plain": [
              "('data/die Stadt.txt', <http.client.HTTPMessage at 0x7b8270615f10>)"
            ]
          },
          "metadata": {},
          "execution_count": 8
        }
      ]
    },
    {
      "cell_type": "code",
      "source": [
        "SRC_LANG = \"de\"\n",
        "DST_LANG = \"en\"\n",
        "DATA_DIR = \"data\"\n",
        "SRC_FILE = \"die Stadt.txt\"\n",
        "AUDIO_DIR = \"data/audio\""
      ],
      "metadata": {
        "id": "oRZvd8FRiFa9"
      },
      "execution_count": 9,
      "outputs": []
    },
    {
      "cell_type": "markdown",
      "source": [
        "## Load Words List\n",
        "\n",
        "Here we load the list of words from a text file. The file should contain\n",
        "one word per line, and we will remove any empty lines."
      ],
      "metadata": {
        "id": "GXR5J8xilBnB"
      }
    },
    {
      "cell_type": "code",
      "source": [
        "import pandas as pd\n",
        "\n",
        "with open(f\"{DATA_DIR}/{SRC_FILE}\", \"r\") as f:\n",
        "    lines = f.readlines()\n",
        "lines = [line.strip() for line in lines if line.strip()]  # Remove empty lines\n",
        "\n",
        "df = pd.DataFrame(lines, columns=[\"Word\"])\n",
        "df.tail(5)"
      ],
      "metadata": {
        "colab": {
          "base_uri": "https://localhost:8080/",
          "height": 206
        },
        "id": "NsX7jIXllC5o",
        "outputId": "db43cedb-9270-413d-80d7-b5ae36eec261"
      },
      "execution_count": 10,
      "outputs": [
        {
          "output_type": "execute_result",
          "data": {
            "text/plain": [
              "                                             Word\n",
              "113  das Kreuzfahrtschiff / die Kreuzfahrtschiffe\n",
              "114                                        zu Fuß\n",
              "115                die Fahrkarte / die Fahrkarten\n",
              "116                  der Fahrplan / die Fahrpläne\n",
              "117             die Endstation / die Endstationen"
            ],
            "text/html": [
              "\n",
              "  <div id=\"df-21a8e5de-bc9a-4a3a-8ffb-a65590b970b6\" class=\"colab-df-container\">\n",
              "    <div>\n",
              "<style scoped>\n",
              "    .dataframe tbody tr th:only-of-type {\n",
              "        vertical-align: middle;\n",
              "    }\n",
              "\n",
              "    .dataframe tbody tr th {\n",
              "        vertical-align: top;\n",
              "    }\n",
              "\n",
              "    .dataframe thead th {\n",
              "        text-align: right;\n",
              "    }\n",
              "</style>\n",
              "<table border=\"1\" class=\"dataframe\">\n",
              "  <thead>\n",
              "    <tr style=\"text-align: right;\">\n",
              "      <th></th>\n",
              "      <th>Word</th>\n",
              "    </tr>\n",
              "  </thead>\n",
              "  <tbody>\n",
              "    <tr>\n",
              "      <th>113</th>\n",
              "      <td>das Kreuzfahrtschiff / die Kreuzfahrtschiffe</td>\n",
              "    </tr>\n",
              "    <tr>\n",
              "      <th>114</th>\n",
              "      <td>zu Fuß</td>\n",
              "    </tr>\n",
              "    <tr>\n",
              "      <th>115</th>\n",
              "      <td>die Fahrkarte / die Fahrkarten</td>\n",
              "    </tr>\n",
              "    <tr>\n",
              "      <th>116</th>\n",
              "      <td>der Fahrplan / die Fahrpläne</td>\n",
              "    </tr>\n",
              "    <tr>\n",
              "      <th>117</th>\n",
              "      <td>die Endstation / die Endstationen</td>\n",
              "    </tr>\n",
              "  </tbody>\n",
              "</table>\n",
              "</div>\n",
              "    <div class=\"colab-df-buttons\">\n",
              "\n",
              "  <div class=\"colab-df-container\">\n",
              "    <button class=\"colab-df-convert\" onclick=\"convertToInteractive('df-21a8e5de-bc9a-4a3a-8ffb-a65590b970b6')\"\n",
              "            title=\"Convert this dataframe to an interactive table.\"\n",
              "            style=\"display:none;\">\n",
              "\n",
              "  <svg xmlns=\"http://www.w3.org/2000/svg\" height=\"24px\" viewBox=\"0 -960 960 960\">\n",
              "    <path d=\"M120-120v-720h720v720H120Zm60-500h600v-160H180v160Zm220 220h160v-160H400v160Zm0 220h160v-160H400v160ZM180-400h160v-160H180v160Zm440 0h160v-160H620v160ZM180-180h160v-160H180v160Zm440 0h160v-160H620v160Z\"/>\n",
              "  </svg>\n",
              "    </button>\n",
              "\n",
              "  <style>\n",
              "    .colab-df-container {\n",
              "      display:flex;\n",
              "      gap: 12px;\n",
              "    }\n",
              "\n",
              "    .colab-df-convert {\n",
              "      background-color: #E8F0FE;\n",
              "      border: none;\n",
              "      border-radius: 50%;\n",
              "      cursor: pointer;\n",
              "      display: none;\n",
              "      fill: #1967D2;\n",
              "      height: 32px;\n",
              "      padding: 0 0 0 0;\n",
              "      width: 32px;\n",
              "    }\n",
              "\n",
              "    .colab-df-convert:hover {\n",
              "      background-color: #E2EBFA;\n",
              "      box-shadow: 0px 1px 2px rgba(60, 64, 67, 0.3), 0px 1px 3px 1px rgba(60, 64, 67, 0.15);\n",
              "      fill: #174EA6;\n",
              "    }\n",
              "\n",
              "    .colab-df-buttons div {\n",
              "      margin-bottom: 4px;\n",
              "    }\n",
              "\n",
              "    [theme=dark] .colab-df-convert {\n",
              "      background-color: #3B4455;\n",
              "      fill: #D2E3FC;\n",
              "    }\n",
              "\n",
              "    [theme=dark] .colab-df-convert:hover {\n",
              "      background-color: #434B5C;\n",
              "      box-shadow: 0px 1px 3px 1px rgba(0, 0, 0, 0.15);\n",
              "      filter: drop-shadow(0px 1px 2px rgba(0, 0, 0, 0.3));\n",
              "      fill: #FFFFFF;\n",
              "    }\n",
              "  </style>\n",
              "\n",
              "    <script>\n",
              "      const buttonEl =\n",
              "        document.querySelector('#df-21a8e5de-bc9a-4a3a-8ffb-a65590b970b6 button.colab-df-convert');\n",
              "      buttonEl.style.display =\n",
              "        google.colab.kernel.accessAllowed ? 'block' : 'none';\n",
              "\n",
              "      async function convertToInteractive(key) {\n",
              "        const element = document.querySelector('#df-21a8e5de-bc9a-4a3a-8ffb-a65590b970b6');\n",
              "        const dataTable =\n",
              "          await google.colab.kernel.invokeFunction('convertToInteractive',\n",
              "                                                    [key], {});\n",
              "        if (!dataTable) return;\n",
              "\n",
              "        const docLinkHtml = 'Like what you see? Visit the ' +\n",
              "          '<a target=\"_blank\" href=https://colab.research.google.com/notebooks/data_table.ipynb>data table notebook</a>'\n",
              "          + ' to learn more about interactive tables.';\n",
              "        element.innerHTML = '';\n",
              "        dataTable['output_type'] = 'display_data';\n",
              "        await google.colab.output.renderOutput(dataTable, element);\n",
              "        const docLink = document.createElement('div');\n",
              "        docLink.innerHTML = docLinkHtml;\n",
              "        element.appendChild(docLink);\n",
              "      }\n",
              "    </script>\n",
              "  </div>\n",
              "\n",
              "\n",
              "    <div id=\"df-75fd42af-07e8-4bd6-a0d7-896ca0bf7b5e\">\n",
              "      <button class=\"colab-df-quickchart\" onclick=\"quickchart('df-75fd42af-07e8-4bd6-a0d7-896ca0bf7b5e')\"\n",
              "                title=\"Suggest charts\"\n",
              "                style=\"display:none;\">\n",
              "\n",
              "<svg xmlns=\"http://www.w3.org/2000/svg\" height=\"24px\"viewBox=\"0 0 24 24\"\n",
              "     width=\"24px\">\n",
              "    <g>\n",
              "        <path d=\"M19 3H5c-1.1 0-2 .9-2 2v14c0 1.1.9 2 2 2h14c1.1 0 2-.9 2-2V5c0-1.1-.9-2-2-2zM9 17H7v-7h2v7zm4 0h-2V7h2v10zm4 0h-2v-4h2v4z\"/>\n",
              "    </g>\n",
              "</svg>\n",
              "      </button>\n",
              "\n",
              "<style>\n",
              "  .colab-df-quickchart {\n",
              "      --bg-color: #E8F0FE;\n",
              "      --fill-color: #1967D2;\n",
              "      --hover-bg-color: #E2EBFA;\n",
              "      --hover-fill-color: #174EA6;\n",
              "      --disabled-fill-color: #AAA;\n",
              "      --disabled-bg-color: #DDD;\n",
              "  }\n",
              "\n",
              "  [theme=dark] .colab-df-quickchart {\n",
              "      --bg-color: #3B4455;\n",
              "      --fill-color: #D2E3FC;\n",
              "      --hover-bg-color: #434B5C;\n",
              "      --hover-fill-color: #FFFFFF;\n",
              "      --disabled-bg-color: #3B4455;\n",
              "      --disabled-fill-color: #666;\n",
              "  }\n",
              "\n",
              "  .colab-df-quickchart {\n",
              "    background-color: var(--bg-color);\n",
              "    border: none;\n",
              "    border-radius: 50%;\n",
              "    cursor: pointer;\n",
              "    display: none;\n",
              "    fill: var(--fill-color);\n",
              "    height: 32px;\n",
              "    padding: 0;\n",
              "    width: 32px;\n",
              "  }\n",
              "\n",
              "  .colab-df-quickchart:hover {\n",
              "    background-color: var(--hover-bg-color);\n",
              "    box-shadow: 0 1px 2px rgba(60, 64, 67, 0.3), 0 1px 3px 1px rgba(60, 64, 67, 0.15);\n",
              "    fill: var(--button-hover-fill-color);\n",
              "  }\n",
              "\n",
              "  .colab-df-quickchart-complete:disabled,\n",
              "  .colab-df-quickchart-complete:disabled:hover {\n",
              "    background-color: var(--disabled-bg-color);\n",
              "    fill: var(--disabled-fill-color);\n",
              "    box-shadow: none;\n",
              "  }\n",
              "\n",
              "  .colab-df-spinner {\n",
              "    border: 2px solid var(--fill-color);\n",
              "    border-color: transparent;\n",
              "    border-bottom-color: var(--fill-color);\n",
              "    animation:\n",
              "      spin 1s steps(1) infinite;\n",
              "  }\n",
              "\n",
              "  @keyframes spin {\n",
              "    0% {\n",
              "      border-color: transparent;\n",
              "      border-bottom-color: var(--fill-color);\n",
              "      border-left-color: var(--fill-color);\n",
              "    }\n",
              "    20% {\n",
              "      border-color: transparent;\n",
              "      border-left-color: var(--fill-color);\n",
              "      border-top-color: var(--fill-color);\n",
              "    }\n",
              "    30% {\n",
              "      border-color: transparent;\n",
              "      border-left-color: var(--fill-color);\n",
              "      border-top-color: var(--fill-color);\n",
              "      border-right-color: var(--fill-color);\n",
              "    }\n",
              "    40% {\n",
              "      border-color: transparent;\n",
              "      border-right-color: var(--fill-color);\n",
              "      border-top-color: var(--fill-color);\n",
              "    }\n",
              "    60% {\n",
              "      border-color: transparent;\n",
              "      border-right-color: var(--fill-color);\n",
              "    }\n",
              "    80% {\n",
              "      border-color: transparent;\n",
              "      border-right-color: var(--fill-color);\n",
              "      border-bottom-color: var(--fill-color);\n",
              "    }\n",
              "    90% {\n",
              "      border-color: transparent;\n",
              "      border-bottom-color: var(--fill-color);\n",
              "    }\n",
              "  }\n",
              "</style>\n",
              "\n",
              "      <script>\n",
              "        async function quickchart(key) {\n",
              "          const quickchartButtonEl =\n",
              "            document.querySelector('#' + key + ' button');\n",
              "          quickchartButtonEl.disabled = true;  // To prevent multiple clicks.\n",
              "          quickchartButtonEl.classList.add('colab-df-spinner');\n",
              "          try {\n",
              "            const charts = await google.colab.kernel.invokeFunction(\n",
              "                'suggestCharts', [key], {});\n",
              "          } catch (error) {\n",
              "            console.error('Error during call to suggestCharts:', error);\n",
              "          }\n",
              "          quickchartButtonEl.classList.remove('colab-df-spinner');\n",
              "          quickchartButtonEl.classList.add('colab-df-quickchart-complete');\n",
              "        }\n",
              "        (() => {\n",
              "          let quickchartButtonEl =\n",
              "            document.querySelector('#df-75fd42af-07e8-4bd6-a0d7-896ca0bf7b5e button');\n",
              "          quickchartButtonEl.style.display =\n",
              "            google.colab.kernel.accessAllowed ? 'block' : 'none';\n",
              "        })();\n",
              "      </script>\n",
              "    </div>\n",
              "\n",
              "    </div>\n",
              "  </div>\n"
            ],
            "application/vnd.google.colaboratory.intrinsic+json": {
              "type": "dataframe",
              "summary": "{\n  \"name\": \"df\",\n  \"rows\": 5,\n  \"fields\": [\n    {\n      \"column\": \"Word\",\n      \"properties\": {\n        \"dtype\": \"string\",\n        \"num_unique_values\": 5,\n        \"samples\": [\n          \"zu Fu\\u00df\",\n          \"die Endstation / die Endstationen\",\n          \"die Fahrkarte / die Fahrkarten\"\n        ],\n        \"semantic_type\": \"\",\n        \"description\": \"\"\n      }\n    }\n  ]\n}"
            }
          },
          "metadata": {},
          "execution_count": 10
        }
      ]
    },
    {
      "cell_type": "markdown",
      "source": [
        "In the particular example, the words are in the format \"Word / Plural\".\n",
        "For example, \"die Stadt / die Städte\" means \"the city / the cities\n",
        "(plural)\". Let's split singular and plural forms into separate rows."
      ],
      "metadata": {
        "id": "cjX_lVQslx-A"
      }
    },
    {
      "cell_type": "code",
      "source": [
        "df[\"Word\"] = df[\"Word\"].str.split(\" / \")\n",
        "df = df.explode(\"Word\").reset_index(drop=True)\n",
        "df.tail(5)"
      ],
      "metadata": {
        "id": "uzEJCA-9ly37"
      },
      "execution_count": null,
      "outputs": []
    },
    {
      "cell_type": "markdown",
      "source": [
        "## Translate Words\n",
        "\n",
        "We will use the `googletrans` library to translate the words from German\n",
        "to English. The library provides an asynchronous interface for\n",
        "translation, which is useful for bulk processing."
      ],
      "metadata": {
        "id": "mBxY4AK4l27x"
      }
    },
    {
      "cell_type": "code",
      "source": [
        "from googletrans import Translator\n",
        "\n",
        "async def translate_bulk(texts: list):\n",
        "    async with Translator() as translator:\n",
        "        translations = await translator.translate(texts, src=SRC_LANG, dest=DST_LANG)\n",
        "        return [translation.text for translation in translations]\n",
        "\n",
        "\n",
        "await translate_bulk(\n",
        "    [\"die Polizei\", \"die Motorräder\", \"die Krankenhäuser\", \"die Bahnhöfe\", \"die Flugzeuge\"]\n",
        ")"
      ],
      "metadata": {
        "colab": {
          "base_uri": "https://localhost:8080/"
        },
        "id": "Stl-Wu70l77-",
        "outputId": "f6e7aaf8-18ce-4f3f-e056-f7c7e129054f"
      },
      "execution_count": 11,
      "outputs": [
        {
          "output_type": "execute_result",
          "data": {
            "text/plain": [
              "['the police',\n",
              " 'The motorcycles',\n",
              " 'The hospitals',\n",
              " 'The train stations',\n",
              " 'The aircraft']"
            ]
          },
          "metadata": {},
          "execution_count": 11
        }
      ]
    },
    {
      "cell_type": "markdown",
      "source": [
        "In the next chunk of code, we will create list of words to translate,\n",
        "then will apply the `translate_bulk` function to this list."
      ],
      "metadata": {
        "id": "8V9IMYxkmAUa"
      }
    },
    {
      "cell_type": "code",
      "source": [
        "texts = df[\"Word\"].to_list()\n",
        "\n",
        "translations = await translate_bulk(texts)\n",
        "\n",
        "translations[:5]"
      ],
      "metadata": {
        "colab": {
          "base_uri": "https://localhost:8080/"
        },
        "id": "9_BjMvQ9mCE_",
        "outputId": "67cc0640-928a-4e51-ca06-67fe7fc60e69"
      },
      "execution_count": 12,
      "outputs": [
        {
          "output_type": "execute_result",
          "data": {
            "text/plain": [
              "['The city / cities',\n",
              " 'The village / village',\n",
              " 'The street / street',\n",
              " 'The place / places',\n",
              " 'The building / building']"
            ]
          },
          "metadata": {},
          "execution_count": 12
        }
      ]
    },
    {
      "cell_type": "markdown",
      "source": [
        "The `googletrans` library employs undocumented Google Translate API,\n",
        "which may lead to rate limiting or blocking. We will hope that it will\n",
        "work for our case. If you encounter issues, consider using a paid\n",
        "translation service or API.\n",
        "\n",
        "Next, we will add the translations to the DataFrame."
      ],
      "metadata": {
        "id": "adTLim38mFBG"
      }
    },
    {
      "cell_type": "code",
      "source": [
        "df[\"Translation\"] = translations"
      ],
      "metadata": {
        "id": "-EEMXkvJmG7V"
      },
      "execution_count": 13,
      "outputs": []
    },
    {
      "cell_type": "markdown",
      "source": [
        "\n",
        "## Generate Audio Files\n",
        "\n",
        "We will use the `gtts` library to generate audio files for the words.\n",
        "This library uses Google Text-to-Speech API and it's free. The generated\n",
        "audio files will be saved in the `AUDIO_DIR` directory. The filenames\n",
        "will be generated using a hash of the word."
      ],
      "metadata": {
        "id": "f1gbFYyhmI2w"
      }
    },
    {
      "cell_type": "code",
      "source": [
        "from gtts import gTTS\n",
        "import os\n",
        "import hashlib\n",
        "\n",
        "def gen_audio(sentence):\n",
        "    h = hashlib.shake_128(sentence.encode()).hexdigest(6)\n",
        "    filename = f\"{h}.mp3\"\n",
        "    if filename in [f for f in os.listdir(AUDIO_DIR)]:\n",
        "        return filename\n",
        "    try:\n",
        "        gTTS(text=sentence, lang=SRC_LANG, slow=True).save(f\"{AUDIO_DIR}/{filename}\")\n",
        "    except Exception as e:\n",
        "        return None\n",
        "    return filename\n",
        "\n",
        "\n",
        "sample_audio = gen_audio(\"die Krankenhäuser\")\n",
        "print(f\"Audio file saved as: {sample_audio}\")"
      ],
      "metadata": {
        "colab": {
          "base_uri": "https://localhost:8080/"
        },
        "id": "mDxuXaOvmLp4",
        "outputId": "2cce5eb6-011c-43ca-fad1-ac39724c8e04"
      },
      "execution_count": 14,
      "outputs": [
        {
          "output_type": "stream",
          "name": "stdout",
          "text": [
            "Audio file saved as: 308d817b87e2.mp3\n"
          ]
        }
      ]
    },
    {
      "cell_type": "markdown",
      "source": [
        "The `gen_audio` function generates a hash of the word and checks if the\n",
        "audio file already exists in the `AUDIO_DIR`. If it does, it returns the\n",
        "filename. If not, it generates the audio file and saves it.\n",
        "\n",
        "<audio controls=\"1\" src=\"https://github.com/AxesAccess/Blog/raw/refs/heads/main/posts/20250503-anki-part-1/data/audio/308d817b87e2.mp3\" preload=\"auto\">\n",
        "\n",
        "</audio>\n",
        "\n",
        "## Add Audio File Paths to DataFrame"
      ],
      "metadata": {
        "id": "Mafvkj6smQdF"
      }
    },
    {
      "cell_type": "code",
      "source": [
        "df[\"Audio\"] = df[\"Word\"].apply(gen_audio)"
      ],
      "metadata": {
        "id": "Z-BiJH6zmVxX"
      },
      "execution_count": 15,
      "outputs": []
    },
    {
      "cell_type": "markdown",
      "source": [
        "## Shuffle DataFrame\n",
        "\n",
        "We will shuffle the DataFrame to randomize the order of the flashcards."
      ],
      "metadata": {
        "id": "84GAJLgZmitn"
      }
    },
    {
      "cell_type": "code",
      "source": [
        "df = df.sample(frac=1).reset_index(drop=True)"
      ],
      "metadata": {
        "id": "beYTdGz9mjNQ"
      },
      "execution_count": null,
      "outputs": []
    },
    {
      "cell_type": "markdown",
      "source": [
        "## Set Up Anki Deck and Model\n",
        "\n",
        "We will use the `genanki` library to create an Anki deck and model. The\n",
        "model defines the structure of the flashcards, while the deck contains\n",
        "the flashcards themselves. To get unique IDs for the model and deck, we\n",
        "will use random numbers. We will set seed for reproducibility.\n"
      ],
      "metadata": {
        "id": "2cfgw_2YmsbN"
      }
    },
    {
      "cell_type": "code",
      "source": [
        "import random\n",
        "\n",
        "random.seed(42)\n",
        "\n",
        "MODEL_NAME = \"Vocabulary\"\n",
        "DECK_NAME = \"Die Stadt\"\n",
        "MODEL_ID = random.randrange(1 << 30, 1 << 31)\n",
        "DECK_ID = random.randrange(1 << 30, 1 << 31)"
      ],
      "metadata": {
        "id": "r3SGqawTmwO5"
      },
      "execution_count": 16,
      "outputs": []
    },
    {
      "cell_type": "markdown",
      "source": [
        "## Add Cards to Anki Deck\n",
        "\n",
        "Next, will create a model for the flashcards and add the cards to the\n",
        "Anki deck."
      ],
      "metadata": {
        "id": "ofVgKophmz5Z"
      }
    },
    {
      "cell_type": "code",
      "source": [
        "import genanki\n",
        "\n",
        "my_model = genanki.Model(\n",
        "    MODEL_ID,\n",
        "    MODEL_NAME,\n",
        "    fields=[\n",
        "        {\"name\": \"Question\"},\n",
        "        {\"name\": \"Answer\"},\n",
        "        {\"name\": \"Audio\"},\n",
        "    ],\n",
        "    templates=[\n",
        "        {\n",
        "            \"name\": \"{{Question}}\",\n",
        "            \"qfmt\": '<div class=\"head\">{{Question}}</div>',\n",
        "            \"afmt\": '<div class=\"head\">{{Question}}</div><hr id=\"answer\"> \\\n",
        "                <div class=\"head\">{{Answer}}</div> {{Audio}}',\n",
        "        },\n",
        "    ],\n",
        "    css=\"\"\"\n",
        "        .head {font-size: x-large;}\n",
        "        .spot {text-decoration: underline;}\n",
        "        .sentence {font-style: italic; font-size: normal!important;}\n",
        "    \"\"\",\n",
        ")\n",
        "\n",
        "my_deck = genanki.Deck(\n",
        "    DECK_ID,\n",
        "    DECK_NAME,\n",
        ")\n",
        "\n",
        "for i, row in df.iterrows():\n",
        "    my_note = genanki.Note(\n",
        "        model=my_model,\n",
        "        fields=[\n",
        "            row[\"Translation\"],\n",
        "            row[\"Word\"],\n",
        "            f\"[sound:{row['Audio']}]\",\n",
        "        ],\n",
        "    )\n",
        "    my_deck.add_note(my_note)"
      ],
      "metadata": {
        "id": "-aFG15I3m3v-"
      },
      "execution_count": 17,
      "outputs": []
    },
    {
      "cell_type": "markdown",
      "source": [
        "## Export Anki Deck\n",
        "\n",
        "Finally, we will export the Anki deck to a file. The file will be saved\n",
        "in the `DATA_DIR` directory with the name\n",
        "**`f\"{DECK_NAME}.apkg\"`**. The audio files will be included in\n",
        "the package."
      ],
      "metadata": {
        "id": "2cl69MuLm-qV"
      }
    },
    {
      "cell_type": "code",
      "source": [
        "my_package = genanki.Package(my_deck)\n",
        "my_package.media_files = [f\"{AUDIO_DIR}/{filename}\" for filename in df[\"Audio\"].values]\n",
        "my_package.write_to_file(f\"{DATA_DIR}/{DECK_NAME}.apkg\")"
      ],
      "metadata": {
        "id": "c6vSVg2zm55p"
      },
      "execution_count": 18,
      "outputs": []
    },
    {
      "cell_type": "markdown",
      "source": [
        "## Conclusion\n",
        "\n",
        "In this notebook, we learned how to create Anki flashcards from a list\n",
        "of words. We used the `googletrans` library to translate the words from\n",
        "German to English and the `gtts` library to generate audio files for the\n",
        "words. Finally, we used the `genanki` library to create an Anki deck and\n",
        "export it to a file. The generated Anki deck can be imported into Anki\n",
        "app and used for studying the vocabulary.\n",
        "\n",
        "## References\n",
        "\n",
        "-   [Anki apps](https://apps.ankiweb.net/)\n",
        "-   [Shared Decks -\n",
        "    AnkiWeb](https://ankiweb.net/shared/decks)\n",
        "    "
      ],
      "metadata": {
        "id": "RW33nMvqm-LU"
      }
    }
  ]
}